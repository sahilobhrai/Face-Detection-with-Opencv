{
 "cells": [
  {
   "cell_type": "code",
   "execution_count": 1,
   "id": "d33c21b8",
   "metadata": {},
   "outputs": [],
   "source": [
    "import cv2\n",
    "import numpy as np\n",
    "import face_recognition"
   ]
  },
  {
   "cell_type": "code",
   "execution_count": 2,
   "id": "681e8ce9",
   "metadata": {},
   "outputs": [
    {
     "data": {
      "text/plain": [
       "-1"
      ]
     },
     "execution_count": 2,
     "metadata": {},
     "output_type": "execute_result"
    }
   ],
   "source": [
    "imgSahil = face_recognition.load_image_file('frames/sahil/sahil00281.jpg')\n",
    "imgSahil = cv2.cvtColor(imgSahil,cv2.COLOR_BGR2RGB)\n",
    "\n",
    "imgTest = face_recognition.load_image_file('frames/sahil/sahil00396.jpg')\n",
    "imgSahil = cv2.cvtColor(imgSahil,cv2.COLOR_BGR2RGB)\n",
    "\n",
    "faceLoc= face_recognition.face_locations(imgSahil)[0]\n",
    "encodeSahil = face_recognition.face_encodings(imgSahil)[0]\n",
    "cv2.rectangle(imgSahil,(faceLoc[3],faceLoc[0]),(faceLoc[1],faceLoc[2]),(255,0,255),2)\n",
    "\n",
    "cv2.imshow('Sahil Obhrai',imgSahil)\n",
    "\n",
    "cv2.waitKey(0)"
   ]
  },
  {
   "cell_type": "code",
   "execution_count": null,
   "id": "0d1b1630",
   "metadata": {},
   "outputs": [],
   "source": []
  }
 ],
 "metadata": {
  "kernelspec": {
   "display_name": "Python 3 (ipykernel)",
   "language": "python",
   "name": "python3"
  },
  "language_info": {
   "codemirror_mode": {
    "name": "ipython",
    "version": 3
   },
   "file_extension": ".py",
   "mimetype": "text/x-python",
   "name": "python",
   "nbconvert_exporter": "python",
   "pygments_lexer": "ipython3",
   "version": "3.9.7"
  }
 },
 "nbformat": 4,
 "nbformat_minor": 5
}
