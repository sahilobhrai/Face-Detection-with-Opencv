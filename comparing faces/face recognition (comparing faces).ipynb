{
 "cells": [
  {
   "cell_type": "code",
   "execution_count": 1,
   "id": "5e5b76d0",
   "metadata": {},
   "outputs": [],
   "source": [
    "import cv2\n",
    "import numpy as np\n",
    "import face_recognition"
   ]
  },
  {
   "cell_type": "code",
   "execution_count": 2,
   "id": "cc0da6fc",
   "metadata": {},
   "outputs": [
    {
     "name": "stdout",
     "output_type": "stream",
     "text": [
      "[True] [0.51752282]\n"
     ]
    },
    {
     "data": {
      "text/plain": [
       "-1"
      ]
     },
     "execution_count": 2,
     "metadata": {},
     "output_type": "execute_result"
    }
   ],
   "source": [
    "imgSahil = face_recognition.load_image_file('frames/sahil/sahil00281.jpg')\n",
    "imgSahil = cv2.cvtColor(imgSahil,cv2.COLOR_BGR2RGB)\n",
    "\n",
    "imgTest = face_recognition.load_image_file('frames/sahil/test.jpeg')\n",
    "imgSahil = cv2.cvtColor(imgSahil,cv2.COLOR_BGR2RGB)\n",
    "\n",
    "faceLoc= face_recognition.face_locations(imgSahil)[0]\n",
    "encodeSahil = face_recognition.face_encodings(imgSahil)[0]\n",
    "cv2.rectangle(imgSahil,(faceLoc[3],faceLoc[0]),(faceLoc[1],faceLoc[2]),(255,0,255),2)\n",
    "\n",
    "faceLocTest= face_recognition.face_locations(imgTest)[0]\n",
    "encodeTest = face_recognition.face_encodings(imgTest)[0]\n",
    "cv2.rectangle(imgTest,(faceLocTest[3],faceLocTest[0]),(faceLocTest[1],faceLocTest[2]),(255,0,255),2)\n",
    "\n",
    "results = face_recognition.compare_faces([encodeSahil],encodeTest)\n",
    "faceDis = face_recognition.face_distance([encodeSahil],encodeTest)\n",
    "print(results,faceDis)\n",
    "cv2.putText(imgTest,f'{results} {round(faceDis[0],2)}',(50,50),cv2.FONT_HERSHEY_COMPLEX,1,(0,2,255),2)\n",
    "\n",
    "cv2.imshow('Sahil Obhrai',imgSahil)\n",
    "cv2.imshow('Sahil Test',imgTest)\n",
    "cv2.waitKey(0)"
   ]
  },
  {
   "cell_type": "code",
   "execution_count": null,
   "id": "1515c0c2",
   "metadata": {},
   "outputs": [],
   "source": []
  }
 ],
 "metadata": {
  "kernelspec": {
   "display_name": "Python 3 (ipykernel)",
   "language": "python",
   "name": "python3"
  },
  "language_info": {
   "codemirror_mode": {
    "name": "ipython",
    "version": 3
   },
   "file_extension": ".py",
   "mimetype": "text/x-python",
   "name": "python",
   "nbconvert_exporter": "python",
   "pygments_lexer": "ipython3",
   "version": "3.9.7"
  }
 },
 "nbformat": 4,
 "nbformat_minor": 5
}
